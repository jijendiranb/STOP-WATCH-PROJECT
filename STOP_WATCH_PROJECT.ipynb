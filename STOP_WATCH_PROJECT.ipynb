{
  "nbformat": 4,
  "nbformat_minor": 0,
  "metadata": {
    "colab": {
      "name": "STOP WATCH PROJECT",
      "provenance": [],
      "authorship_tag": "ABX9TyPxbnfT0SRJ1Th+daVaIJ8h",
      "include_colab_link": true
    },
    "kernelspec": {
      "name": "python3",
      "display_name": "Python 3"
    },
    "language_info": {
      "name": "python"
    }
  },
  "cells": [
    {
      "cell_type": "markdown",
      "metadata": {
        "id": "view-in-github",
        "colab_type": "text"
      },
      "source": [
        "<a href=\"https://colab.research.google.com/github/jijendiranb/STOP-WATCH-PROJECT/blob/main/STOP_WATCH_PROJECT.ipynb\" target=\"_parent\"><img src=\"https://colab.research.google.com/assets/colab-badge.svg\" alt=\"Open In Colab\"/></a>"
      ]
    },
    {
      "cell_type": "code",
      "metadata": {
        "id": "N7pHbbnnJoaF"
      },
      "source": [
        ""
      ],
      "execution_count": null,
      "outputs": []
    },
    {
      "cell_type": "markdown",
      "metadata": {
        "id": "xFK2HaOghcAo"
      },
      "source": [
        "STOP WATCH PROJECT"
      ]
    },
    {
      "cell_type": "code",
      "metadata": {
        "id": "tEzGDoxQha59",
        "colab": {
          "base_uri": "https://localhost:8080/"
        },
        "outputId": "cdda73cb-def7-4fa6-81f5-7990ab1329a1"
      },
      "source": [
        "import time\n",
        "print(\"press the ENTER key to start \")\n",
        "print(\"press the CTRL+ M I to exit timer\")\n",
        "while True:\n",
        "    try:\n",
        "        input()\n",
        "        start = time.time()\n",
        "        print(\"Started\")\n",
        "    except keyinterpt:\n",
        "        print(\"Stopped\")\n",
        "        end = time.time()\n",
        "        print(\"Total Time: \",round(end-start,2),\"Seconds\")\n",
        "        break\n"
      ],
      "execution_count": null,
      "outputs": [
        {
          "output_type": "stream",
          "text": [
            "press the ENTER key to start \n",
            "press the CTRL+ M I to exit timer\n"
          ],
          "name": "stdout"
        }
      ]
    }
  ]
}